{
 "cells": [
  {
   "cell_type": "code",
   "execution_count": 1,
   "metadata": {},
   "outputs": [],
   "source": [
    "import numpy as np\n",
    "import pandas as pd\n",
    "import tables\n",
    "import os\n",
    "import matplotlib.pyplot as plt\n",
    "%matplotlib inline"
   ]
  },
  {
   "cell_type": "markdown",
   "metadata": {},
   "source": [
    "## Parsing"
   ]
  },
  {
   "cell_type": "code",
   "execution_count": 2,
   "metadata": {
    "scrolled": true
   },
   "outputs": [
    {
     "name": "stdout",
     "output_type": "stream",
     "text": [
      "/Users/danie/Desktop/HUNT4-HAR-master/act_recog\\hunt4training.h5 (File) ''\n",
      "Last modif.: 'Fri Sep 14 12:00:12 2018'\n",
      "Object Tree: \n",
      "/ (RootGroup) ''\n",
      "/originial_data (Group) ''\n",
      "/originial_data/table (Table(10901356,)) ''\n",
      "/originial_data_textlabels (Group) ''\n",
      "/originial_data_textlabels/table (Table(10901356,)) ''\n",
      "\n"
     ]
    }
   ],
   "source": [
    "data_dir = '/Users/danie/Desktop/HUNT4-HAR-master/act_recog'\n",
    "data = os.path.join(data_dir, 'hunt4training.h5')\n",
    "f = tables.open_file(filename=data, mode=\"r\")\n",
    "print(f)"
   ]
  },
  {
   "cell_type": "code",
   "execution_count": 3,
   "metadata": {
    "scrolled": true
   },
   "outputs": [
    {
     "data": {
      "text/html": [
       "<div>\n",
       "<style scoped>\n",
       "    .dataframe tbody tr th:only-of-type {\n",
       "        vertical-align: middle;\n",
       "    }\n",
       "\n",
       "    .dataframe tbody tr th {\n",
       "        vertical-align: top;\n",
       "    }\n",
       "\n",
       "    .dataframe thead th {\n",
       "        text-align: right;\n",
       "    }\n",
       "</style>\n",
       "<table border=\"1\" class=\"dataframe\">\n",
       "  <thead>\n",
       "    <tr style=\"text-align: right;\">\n",
       "      <th></th>\n",
       "      <th>index</th>\n",
       "      <th>x_back</th>\n",
       "      <th>y_back</th>\n",
       "      <th>z_back</th>\n",
       "      <th>x_thigh</th>\n",
       "      <th>y_thigh</th>\n",
       "      <th>z_thigh</th>\n",
       "      <th>label</th>\n",
       "      <th>subject</th>\n",
       "    </tr>\n",
       "  </thead>\n",
       "  <tbody>\n",
       "    <tr>\n",
       "      <th>0</th>\n",
       "      <td>0</td>\n",
       "      <td>-7.500244</td>\n",
       "      <td>0.437988</td>\n",
       "      <td>-0.418457</td>\n",
       "      <td>-0.504883</td>\n",
       "      <td>0.138916</td>\n",
       "      <td>-0.364746</td>\n",
       "      <td>6</td>\n",
       "      <td>b'006'</td>\n",
       "    </tr>\n",
       "    <tr>\n",
       "      <th>1</th>\n",
       "      <td>1</td>\n",
       "      <td>-0.773926</td>\n",
       "      <td>0.649170</td>\n",
       "      <td>1.215576</td>\n",
       "      <td>-0.474365</td>\n",
       "      <td>0.088623</td>\n",
       "      <td>-0.245850</td>\n",
       "      <td>6</td>\n",
       "      <td>b'006'</td>\n",
       "    </tr>\n",
       "    <tr>\n",
       "      <th>2</th>\n",
       "      <td>2</td>\n",
       "      <td>-0.550537</td>\n",
       "      <td>-0.094238</td>\n",
       "      <td>0.201172</td>\n",
       "      <td>-0.424072</td>\n",
       "      <td>0.011719</td>\n",
       "      <td>-0.120605</td>\n",
       "      <td>6</td>\n",
       "      <td>b'006'</td>\n",
       "    </tr>\n",
       "    <tr>\n",
       "      <th>3</th>\n",
       "      <td>3</td>\n",
       "      <td>-0.625244</td>\n",
       "      <td>0.548096</td>\n",
       "      <td>0.292480</td>\n",
       "      <td>-0.358643</td>\n",
       "      <td>-0.127686</td>\n",
       "      <td>-0.036865</td>\n",
       "      <td>6</td>\n",
       "      <td>b'006'</td>\n",
       "    </tr>\n",
       "    <tr>\n",
       "      <th>4</th>\n",
       "      <td>4</td>\n",
       "      <td>-0.768311</td>\n",
       "      <td>0.230469</td>\n",
       "      <td>0.093994</td>\n",
       "      <td>-0.392090</td>\n",
       "      <td>-0.279785</td>\n",
       "      <td>0.030029</td>\n",
       "      <td>6</td>\n",
       "      <td>b'006'</td>\n",
       "    </tr>\n",
       "  </tbody>\n",
       "</table>\n",
       "</div>"
      ],
      "text/plain": [
       "   index    x_back    y_back    z_back   x_thigh   y_thigh   z_thigh  label  \\\n",
       "0      0 -7.500244  0.437988 -0.418457 -0.504883  0.138916 -0.364746      6   \n",
       "1      1 -0.773926  0.649170  1.215576 -0.474365  0.088623 -0.245850      6   \n",
       "2      2 -0.550537 -0.094238  0.201172 -0.424072  0.011719 -0.120605      6   \n",
       "3      3 -0.625244  0.548096  0.292480 -0.358643 -0.127686 -0.036865      6   \n",
       "4      4 -0.768311  0.230469  0.093994 -0.392090 -0.279785  0.030029      6   \n",
       "\n",
       "  subject  \n",
       "0  b'006'  \n",
       "1  b'006'  \n",
       "2  b'006'  \n",
       "3  b'006'  \n",
       "4  b'006'  "
      ]
     },
     "execution_count": 3,
     "metadata": {},
     "output_type": "execute_result"
    }
   ],
   "source": [
    "data_table = f.root.originial_data.table.read()\n",
    "data_table = pd.DataFrame(data_table)\n",
    "data_table.head()"
   ]
  },
  {
   "cell_type": "code",
   "execution_count": 4,
   "metadata": {
    "scrolled": false
   },
   "outputs": [
    {
     "data": {
      "text/html": [
       "<div>\n",
       "<style scoped>\n",
       "    .dataframe tbody tr th:only-of-type {\n",
       "        vertical-align: middle;\n",
       "    }\n",
       "\n",
       "    .dataframe tbody tr th {\n",
       "        vertical-align: top;\n",
       "    }\n",
       "\n",
       "    .dataframe thead th {\n",
       "        text-align: right;\n",
       "    }\n",
       "</style>\n",
       "<table border=\"1\" class=\"dataframe\">\n",
       "  <thead>\n",
       "    <tr style=\"text-align: right;\">\n",
       "      <th></th>\n",
       "      <th>index</th>\n",
       "      <th>x_back</th>\n",
       "      <th>y_back</th>\n",
       "      <th>z_back</th>\n",
       "      <th>x_thigh</th>\n",
       "      <th>y_thigh</th>\n",
       "      <th>z_thigh</th>\n",
       "      <th>label</th>\n",
       "      <th>subject</th>\n",
       "    </tr>\n",
       "  </thead>\n",
       "  <tbody>\n",
       "    <tr>\n",
       "      <th>0</th>\n",
       "      <td>0</td>\n",
       "      <td>-7.500244</td>\n",
       "      <td>0.437988</td>\n",
       "      <td>-0.418457</td>\n",
       "      <td>-0.504883</td>\n",
       "      <td>0.138916</td>\n",
       "      <td>-0.364746</td>\n",
       "      <td>b'standing'</td>\n",
       "      <td>b'006'</td>\n",
       "    </tr>\n",
       "    <tr>\n",
       "      <th>1</th>\n",
       "      <td>1</td>\n",
       "      <td>-0.773926</td>\n",
       "      <td>0.649170</td>\n",
       "      <td>1.215576</td>\n",
       "      <td>-0.474365</td>\n",
       "      <td>0.088623</td>\n",
       "      <td>-0.245850</td>\n",
       "      <td>b'standing'</td>\n",
       "      <td>b'006'</td>\n",
       "    </tr>\n",
       "    <tr>\n",
       "      <th>2</th>\n",
       "      <td>2</td>\n",
       "      <td>-0.550537</td>\n",
       "      <td>-0.094238</td>\n",
       "      <td>0.201172</td>\n",
       "      <td>-0.424072</td>\n",
       "      <td>0.011719</td>\n",
       "      <td>-0.120605</td>\n",
       "      <td>b'standing'</td>\n",
       "      <td>b'006'</td>\n",
       "    </tr>\n",
       "    <tr>\n",
       "      <th>3</th>\n",
       "      <td>3</td>\n",
       "      <td>-0.625244</td>\n",
       "      <td>0.548096</td>\n",
       "      <td>0.292480</td>\n",
       "      <td>-0.358643</td>\n",
       "      <td>-0.127686</td>\n",
       "      <td>-0.036865</td>\n",
       "      <td>b'standing'</td>\n",
       "      <td>b'006'</td>\n",
       "    </tr>\n",
       "    <tr>\n",
       "      <th>4</th>\n",
       "      <td>4</td>\n",
       "      <td>-0.768311</td>\n",
       "      <td>0.230469</td>\n",
       "      <td>0.093994</td>\n",
       "      <td>-0.392090</td>\n",
       "      <td>-0.279785</td>\n",
       "      <td>0.030029</td>\n",
       "      <td>b'standing'</td>\n",
       "      <td>b'006'</td>\n",
       "    </tr>\n",
       "  </tbody>\n",
       "</table>\n",
       "</div>"
      ],
      "text/plain": [
       "   index    x_back    y_back    z_back   x_thigh   y_thigh   z_thigh  \\\n",
       "0      0 -7.500244  0.437988 -0.418457 -0.504883  0.138916 -0.364746   \n",
       "1      1 -0.773926  0.649170  1.215576 -0.474365  0.088623 -0.245850   \n",
       "2      2 -0.550537 -0.094238  0.201172 -0.424072  0.011719 -0.120605   \n",
       "3      3 -0.625244  0.548096  0.292480 -0.358643 -0.127686 -0.036865   \n",
       "4      4 -0.768311  0.230469  0.093994 -0.392090 -0.279785  0.030029   \n",
       "\n",
       "         label subject  \n",
       "0  b'standing'  b'006'  \n",
       "1  b'standing'  b'006'  \n",
       "2  b'standing'  b'006'  \n",
       "3  b'standing'  b'006'  \n",
       "4  b'standing'  b'006'  "
      ]
     },
     "execution_count": 4,
     "metadata": {},
     "output_type": "execute_result"
    }
   ],
   "source": [
    "data_with_textlabels = f.root.originial_data_textlabels.table.read()\n",
    "data_with_textlabels = pd.DataFrame(data_with_textlabels)\n",
    "data_with_textlabels.head()"
   ]
  },
  {
   "cell_type": "code",
   "execution_count": 5,
   "metadata": {
    "scrolled": false
   },
   "outputs": [
    {
     "name": "stdout",
     "output_type": "stream",
     "text": [
      "Data was collected from 15 subjects, with 19 different types of activities.\n",
      "\n",
      "The activities are: \n",
      " [('walking', 1), ('running', 2), ('shuffling', 3), ('stairs (ascending)', 4), ('stairs (descending)', 5), ('standing', 6), ('sitting', 7), ('lying', 8), ('transition', 9), ('bending', 10), ('picking', 11), ('undefined', 12), ('cycling (sit)', 13), ('cycling (stand)', 14), ('heel drop', 15), ('vigorous activity', 16), ('non-vigorous activity', 17), ('Transport (sitting)', 18), ('Commute (standing)', 19)]\n"
     ]
    }
   ],
   "source": [
    "assert data_table['label'].nunique() == data_with_textlabels['label'].nunique()\n",
    "n_labels = data_table['label'].nunique()\n",
    "n_subjects = data_table['subject'].nunique()\n",
    "numeric_labels = data_table['label'].unique()\n",
    "text_labels =data_with_textlabels['label'].unique()\n",
    "text_labels =np.array([label.decode('utf-8') for label in text_labels])\n",
    "labels=sorted(list(zip(text_labels,numeric_labels)), key=lambda x: x[1])\n",
    "labels_sorted = [label[0] for label in labels]\n",
    "print('Data was collected from %d subjects, with %d different types of activities.' %(n_subjects, n_labels))\n",
    "print('\\nThe activities are: \\n',labels)"
   ]
  },
  {
   "cell_type": "markdown",
   "metadata": {},
   "source": [
    "## Plotting"
   ]
  },
  {
   "cell_type": "code",
   "execution_count": 6,
   "metadata": {
    "scrolled": true
   },
   "outputs": [
    {
     "data": {
      "image/png": "[encoded data removed]",
      "text/plain": [
       "<Figure size 1800x720 with 1 Axes>"
      ]
     },
     "metadata": {
      "needs_background": "light"
     },
     "output_type": "display_data"
    }
   ],
   "source": [
    "plt.figure(figsize=(25,10))\n",
    "n, bins, _ = plt.hist(data_table['label'],\n",
    "                      bins=[1,2,3,4,5,6,7,8,9,10,11,12,13,14,15,16,17,18,19,20],\n",
    "                      align='left')\n",
    "# n, bins, _ = plt.hist(data_table['label'],\n",
    "#                       bins=n_labels+1,\n",
    "#                       align='left')\n",
    "plt.xticks(range(1,20), labels_sorted)\n",
    "plt.savefig('data_hist.pdf')\n",
    "plt.show()"
   ]
  },
  {
   "cell_type": "markdown",
   "metadata": {},
   "source": [
    "## Storrig"
   ]
  },
  {
   "cell_type": "code",
   "execution_count": 7,
   "metadata": {},
   "outputs": [],
   "source": [
    "# save to csv\n",
    "data_table.to_csv('data_table.csv')\n",
    "data_with_textlabels.to_csv('data_textlabels.csv')"
   ]
  },
  {
   "cell_type": "code",
   "execution_count": 8,
   "metadata": {
    "scrolled": true
   },
   "outputs": [],
   "source": [
    "modified_data = os.path.join(data_dir,\"modified.data.h5\")\n",
    "hdf = pd.HDFStore(path=modified_data, mode='w')"
   ]
  },
  {
   "cell_type": "code",
   "execution_count": 9,
   "metadata": {},
   "outputs": [],
   "source": [
    "data_table['subject'] =data_table['subject'].apply(lambda x: x.decode('utf-8'))"
   ]
  },
  {
   "cell_type": "code",
   "execution_count": 10,
   "metadata": {},
   "outputs": [
    {
     "ename": "IndexError",
     "evalue": "tuple index out of range",
     "output_type": "error",
     "traceback": [
      "\u001b[1;31m---------------------------------------------------------------------------\u001b[0m",
      "\u001b[1;31mIndexError\u001b[0m                                Traceback (most recent call last)",
      "\u001b[1;32m<ipython-input-10-aa8f999e75d5>\u001b[0m in \u001b[0;36m<module>\u001b[1;34m()\u001b[0m\n\u001b[1;32m----> 1\u001b[1;33m \u001b[0mhdf\u001b[0m\u001b[1;33m.\u001b[0m\u001b[0mput\u001b[0m\u001b[1;33m(\u001b[0m\u001b[0mkey\u001b[0m\u001b[1;33m=\u001b[0m\u001b[1;34m\"data_table\"\u001b[0m\u001b[1;33m,\u001b[0m \u001b[0mvalue\u001b[0m\u001b[1;33m=\u001b[0m\u001b[0mdata_table\u001b[0m\u001b[1;33m,\u001b[0m \u001b[0mformat\u001b[0m\u001b[1;33m=\u001b[0m\u001b[1;34m'table'\u001b[0m\u001b[1;33m,\u001b[0m \u001b[0mdata_columns\u001b[0m\u001b[1;33m=\u001b[0m\u001b[1;32mTrue\u001b[0m\u001b[1;33m)\u001b[0m\u001b[1;33m\u001b[0m\u001b[0m\n\u001b[0m\u001b[0;32m      2\u001b[0m \u001b[1;31m#hdf.put(key=\"data_with_text_labels\", value=data_with_textlabels, format='table', data_columns=True)\u001b[0m\u001b[1;33m\u001b[0m\u001b[1;33m\u001b[0m\u001b[0m\n",
      "\u001b[1;32m~\\Anaconda3\\lib\\site-packages\\pandas\\io\\pytables.py\u001b[0m in \u001b[0;36mput\u001b[1;34m(self, key, value, format, append, **kwargs)\u001b[0m\n\u001b[0;32m    888\u001b[0m             \u001b[0mformat\u001b[0m \u001b[1;33m=\u001b[0m \u001b[0mget_option\u001b[0m\u001b[1;33m(\u001b[0m\u001b[1;34m\"io.hdf.default_format\"\u001b[0m\u001b[1;33m)\u001b[0m \u001b[1;32mor\u001b[0m \u001b[1;34m'fixed'\u001b[0m\u001b[1;33m\u001b[0m\u001b[0m\n\u001b[0;32m    889\u001b[0m         \u001b[0mkwargs\u001b[0m \u001b[1;33m=\u001b[0m \u001b[0mself\u001b[0m\u001b[1;33m.\u001b[0m\u001b[0m_validate_format\u001b[0m\u001b[1;33m(\u001b[0m\u001b[0mformat\u001b[0m\u001b[1;33m,\u001b[0m \u001b[0mkwargs\u001b[0m\u001b[1;33m)\u001b[0m\u001b[1;33m\u001b[0m\u001b[0m\n\u001b[1;32m--> 890\u001b[1;33m         \u001b[0mself\u001b[0m\u001b[1;33m.\u001b[0m\u001b[0m_write_to_group\u001b[0m\u001b[1;33m(\u001b[0m\u001b[0mkey\u001b[0m\u001b[1;33m,\u001b[0m \u001b[0mvalue\u001b[0m\u001b[1;33m,\u001b[0m \u001b[0mappend\u001b[0m\u001b[1;33m=\u001b[0m\u001b[0mappend\u001b[0m\u001b[1;33m,\u001b[0m \u001b[1;33m**\u001b[0m\u001b[0mkwargs\u001b[0m\u001b[1;33m)\u001b[0m\u001b[1;33m\u001b[0m\u001b[0m\n\u001b[0m\u001b[0;32m    891\u001b[0m \u001b[1;33m\u001b[0m\u001b[0m\n\u001b[0;32m    892\u001b[0m     \u001b[1;32mdef\u001b[0m \u001b[0mremove\u001b[0m\u001b[1;33m(\u001b[0m\u001b[0mself\u001b[0m\u001b[1;33m,\u001b[0m \u001b[0mkey\u001b[0m\u001b[1;33m,\u001b[0m \u001b[0mwhere\u001b[0m\u001b[1;33m=\u001b[0m\u001b[1;32mNone\u001b[0m\u001b[1;33m,\u001b[0m \u001b[0mstart\u001b[0m\u001b[1;33m=\u001b[0m\u001b[1;32mNone\u001b[0m\u001b[1;33m,\u001b[0m \u001b[0mstop\u001b[0m\u001b[1;33m=\u001b[0m\u001b[1;32mNone\u001b[0m\u001b[1;33m)\u001b[0m\u001b[1;33m:\u001b[0m\u001b[1;33m\u001b[0m\u001b[0m\n",
      "\u001b[1;32m~\\Anaconda3\\lib\\site-packages\\pandas\\io\\pytables.py\u001b[0m in \u001b[0;36m_write_to_group\u001b[1;34m(self, key, value, format, index, append, complib, encoding, **kwargs)\u001b[0m\n\u001b[0;32m   1365\u001b[0m \u001b[1;33m\u001b[0m\u001b[0m\n\u001b[0;32m   1366\u001b[0m         \u001b[1;31m# write the object\u001b[0m\u001b[1;33m\u001b[0m\u001b[1;33m\u001b[0m\u001b[0m\n\u001b[1;32m-> 1367\u001b[1;33m         \u001b[0ms\u001b[0m\u001b[1;33m.\u001b[0m\u001b[0mwrite\u001b[0m\u001b[1;33m(\u001b[0m\u001b[0mobj\u001b[0m\u001b[1;33m=\u001b[0m\u001b[0mvalue\u001b[0m\u001b[1;33m,\u001b[0m \u001b[0mappend\u001b[0m\u001b[1;33m=\u001b[0m\u001b[0mappend\u001b[0m\u001b[1;33m,\u001b[0m \u001b[0mcomplib\u001b[0m\u001b[1;33m=\u001b[0m\u001b[0mcomplib\u001b[0m\u001b[1;33m,\u001b[0m \u001b[1;33m**\u001b[0m\u001b[0mkwargs\u001b[0m\u001b[1;33m)\u001b[0m\u001b[1;33m\u001b[0m\u001b[0m\n\u001b[0m\u001b[0;32m   1368\u001b[0m \u001b[1;33m\u001b[0m\u001b[0m\n\u001b[0;32m   1369\u001b[0m         \u001b[1;32mif\u001b[0m \u001b[0ms\u001b[0m\u001b[1;33m.\u001b[0m\u001b[0mis_table\u001b[0m \u001b[1;32mand\u001b[0m \u001b[0mindex\u001b[0m\u001b[1;33m:\u001b[0m\u001b[1;33m\u001b[0m\u001b[0m\n",
      "\u001b[1;32m~\\Anaconda3\\lib\\site-packages\\pandas\\io\\pytables.py\u001b[0m in \u001b[0;36mwrite\u001b[1;34m(self, obj, axes, append, complib, complevel, fletcher32, min_itemsize, chunksize, expectedrows, dropna, **kwargs)\u001b[0m\n\u001b[0;32m   3974\u001b[0m \u001b[1;33m\u001b[0m\u001b[0m\n\u001b[0;32m   3975\u001b[0m         \u001b[1;31m# add the rows\u001b[0m\u001b[1;33m\u001b[0m\u001b[1;33m\u001b[0m\u001b[0m\n\u001b[1;32m-> 3976\u001b[1;33m         \u001b[0mself\u001b[0m\u001b[1;33m.\u001b[0m\u001b[0mwrite_data\u001b[0m\u001b[1;33m(\u001b[0m\u001b[0mchunksize\u001b[0m\u001b[1;33m,\u001b[0m \u001b[0mdropna\u001b[0m\u001b[1;33m=\u001b[0m\u001b[0mdropna\u001b[0m\u001b[1;33m)\u001b[0m\u001b[1;33m\u001b[0m\u001b[0m\n\u001b[0m\u001b[0;32m   3977\u001b[0m \u001b[1;33m\u001b[0m\u001b[0m\n\u001b[0;32m   3978\u001b[0m     \u001b[1;32mdef\u001b[0m \u001b[0mwrite_data\u001b[0m\u001b[1;33m(\u001b[0m\u001b[0mself\u001b[0m\u001b[1;33m,\u001b[0m \u001b[0mchunksize\u001b[0m\u001b[1;33m,\u001b[0m \u001b[0mdropna\u001b[0m\u001b[1;33m=\u001b[0m\u001b[1;32mFalse\u001b[0m\u001b[1;33m)\u001b[0m\u001b[1;33m:\u001b[0m\u001b[1;33m\u001b[0m\u001b[0m\n",
      "\u001b[1;32m~\\Anaconda3\\lib\\site-packages\\pandas\\io\\pytables.py\u001b[0m in \u001b[0;36mwrite_data\u001b[1;34m(self, chunksize, dropna)\u001b[0m\n\u001b[0;32m   4030\u001b[0m         \u001b[0mbvalues\u001b[0m \u001b[1;33m=\u001b[0m \u001b[1;33m[\u001b[0m\u001b[1;33m]\u001b[0m\u001b[1;33m\u001b[0m\u001b[0m\n\u001b[0;32m   4031\u001b[0m         \u001b[1;32mfor\u001b[0m \u001b[0mi\u001b[0m\u001b[1;33m,\u001b[0m \u001b[0mv\u001b[0m \u001b[1;32min\u001b[0m \u001b[0menumerate\u001b[0m\u001b[1;33m(\u001b[0m\u001b[0mvalues\u001b[0m\u001b[1;33m)\u001b[0m\u001b[1;33m:\u001b[0m\u001b[1;33m\u001b[0m\u001b[0m\n\u001b[1;32m-> 4032\u001b[1;33m             \u001b[0mnew_shape\u001b[0m \u001b[1;33m=\u001b[0m \u001b[1;33m(\u001b[0m\u001b[0mnrows\u001b[0m\u001b[1;33m,\u001b[0m\u001b[1;33m)\u001b[0m \u001b[1;33m+\u001b[0m \u001b[0mself\u001b[0m\u001b[1;33m.\u001b[0m\u001b[0mdtype\u001b[0m\u001b[1;33m[\u001b[0m\u001b[0mnames\u001b[0m\u001b[1;33m[\u001b[0m\u001b[0mnindexes\u001b[0m \u001b[1;33m+\u001b[0m \u001b[0mi\u001b[0m\u001b[1;33m]\u001b[0m\u001b[1;33m]\u001b[0m\u001b[1;33m.\u001b[0m\u001b[0mshape\u001b[0m\u001b[1;33m\u001b[0m\u001b[0m\n\u001b[0m\u001b[0;32m   4033\u001b[0m             \u001b[0mbvalues\u001b[0m\u001b[1;33m.\u001b[0m\u001b[0mappend\u001b[0m\u001b[1;33m(\u001b[0m\u001b[0mvalues\u001b[0m\u001b[1;33m[\u001b[0m\u001b[0mi\u001b[0m\u001b[1;33m]\u001b[0m\u001b[1;33m.\u001b[0m\u001b[0mreshape\u001b[0m\u001b[1;33m(\u001b[0m\u001b[0mnew_shape\u001b[0m\u001b[1;33m)\u001b[0m\u001b[1;33m)\u001b[0m\u001b[1;33m\u001b[0m\u001b[0m\n\u001b[0;32m   4034\u001b[0m \u001b[1;33m\u001b[0m\u001b[0m\n",
      "\u001b[1;31mIndexError\u001b[0m: tuple index out of range"
     ]
    }
   ],
   "source": [
    "hdf.put(key=\"data_table\", value=data_table, format='table', data_columns=True)\n",
    "#hdf.put(key=\"data_with_text_labels\", value=data_with_textlabels, format='table', data_columns=True)"
   ]
  },
  {
   "cell_type": "code",
   "execution_count": null,
   "metadata": {},
   "outputs": [],
   "source": []
  }
 ],
 "metadata": {
  "kernelspec": {
   "display_name": "Python 2",
   "language": "python",
   "name": "python2"
  },
  "language_info": {
   "codemirror_mode": {
    "name": "ipython",
    "version": 2
   },
   "file_extension": ".py",
   "mimetype": "text/x-python",
   "name": "python",
   "nbconvert_exporter": "python",
   "pygments_lexer": "ipython2",
   "version": "2.7.15"
  }
 },
 "nbformat": 4,
 "nbformat_minor": 2
}
